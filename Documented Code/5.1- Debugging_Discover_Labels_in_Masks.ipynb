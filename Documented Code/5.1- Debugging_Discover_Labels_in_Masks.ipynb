{
 "cells": [
  {
   "cell_type": "code",
   "execution_count": 2,
   "metadata": {},
   "outputs": [
    {
     "name": "stdout",
     "output_type": "stream",
     "text": [
      "Unique label values: [  0.   1.   2.   3.   4.   5.   6.   7. 100. 201. 202. 203. 204. 205.\n",
      " 206. 207.]\n",
      "Number of classes: 16\n"
     ]
    }
   ],
   "source": [
    "import numpy as np\n",
    "from monai.transforms import LoadImage\n",
    "\n",
    "# Load a sample of the dataset\n",
    "Mask_path = \"D:/NU/Spine_Segmentation_Project/My/FinalSoluationWithMonai/Dataset/Raw/masks/1_t1.mha\"\n",
    "label = LoadImage(image_only=True)(Mask_path)\n",
    "unique_values = np.unique(label)\n",
    "num_classes = len(unique_values)\n",
    "\n",
    "print(f\"Unique label values: {unique_values}\")\n",
    "print(f\"Number of classes: {num_classes}\")"
   ]
  },
  {
   "cell_type": "code",
   "execution_count": 17,
   "metadata": {},
   "outputs": [
    {
     "name": "stdout",
     "output_type": "stream",
     "text": [
      "Unique label values: [ 0.  1.  2.  3.  4.  5.  6.  7. 10. 11. 12. 13. 14. 15. 16. 17.]\n",
      "Number of classes: 16\n"
     ]
    }
   ],
   "source": [
    "# Load a sample of the dataset\n",
    "sample_label_path = \"D:/NU/Spine_Segmentation_Project/My/Data/masks128-2/1_t1.mha\"\n",
    "label = LoadImage(image_only=True)(sample_label_path)\n",
    "unique_values = np.unique(label)\n",
    "num_classes = len(unique_values)\n",
    "\n",
    "print(f\"Unique label values: {unique_values}\")\n",
    "print(f\"Number of classes: {num_classes}\")"
   ]
  }
 ],
 "metadata": {
  "kernelspec": {
   "display_name": "Python 3",
   "language": "python",
   "name": "python3"
  },
  "language_info": {
   "codemirror_mode": {
    "name": "ipython",
    "version": 3
   },
   "file_extension": ".py",
   "mimetype": "text/x-python",
   "name": "python",
   "nbconvert_exporter": "python",
   "pygments_lexer": "ipython3",
   "version": "3.11.7"
  }
 },
 "nbformat": 4,
 "nbformat_minor": 2
}
